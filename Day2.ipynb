{
 "cells": [
  {
   "cell_type": "code",
   "execution_count": null,
   "id": "f104e849",
   "metadata": {},
   "outputs": [],
   "source": [
    "# Variables are the position holders\n",
    "#Rule 1: No namespaces while declaring variable name\n",
    "#Rule 2**: Variable name should not start with number (but after and inbetween we can put number)\n",
    "#Rule 3: A variable should not contain any special characters. eg @ $ % & etc not allowed\n",
    "\n",
    "# Introduction to data type in Python:\n",
    "\n",
    "1. strings str\n",
    "2. Numbers . > integers :  int and floats : decimals\n",
    "3. list: list\n",
    "4. Tuples : tuple\n",
    "5. Dictionaries : dict\n",
    "    \n",
    "# Classification of data types:\n",
    "\n",
    "#Data Types devided into 2 catgories\n",
    "\n",
    "1: mutable data types > which we can edit and alter . > flexible\n",
    "2: immutable datatypes > which we cannot able to edit and alter > fixed\n",
    "    \n",
    "# Introduction to String data type\n",
    "\n",
    "# Definition: its a series of cvharacters declared in qoutes\n",
    "\n",
    "Classification: it is classified as an immutable datatype \n",
    "\n",
    "# How to define string datatype ?\n",
    "\n",
    "there are 3 possible ways :\n",
    "\n",
    "1: single qoute > ' '\n",
    "2: double qoutes > \" \"\n",
    "3: Triple qoutes > \"\"\" \"\"\""
   ]
  },
  {
   "cell_type": "code",
   "execution_count": 3,
   "id": "379a9858",
   "metadata": {},
   "outputs": [
    {
     "name": "stdout",
     "output_type": "stream",
     "text": [
      "Faiyaz\n"
     ]
    }
   ],
   "source": [
    "name = 'Faiyaz'\n",
    "print(name)"
   ]
  },
  {
   "cell_type": "code",
   "execution_count": 8,
   "id": "c99a1646",
   "metadata": {},
   "outputs": [
    {
     "name": "stdout",
     "output_type": "stream",
     "text": [
      "Arshad\n"
     ]
    }
   ],
   "source": [
    "nextname = \"Arshad\"\n",
    "print(nextname)"
   ]
  },
  {
   "cell_type": "code",
   "execution_count": null,
   "id": "e7453030",
   "metadata": {},
   "outputs": [],
   "source": [
    "# Most of the time we will use single or double qoutes.\n",
    "\n",
    "# Introduction to String Methods:\n",
    "\n",
    "Methods are build in programmes that are readily available for use.\n",
    "\n",
    "eg: Type(name) > shift entre\n",
    "str\n",
    "\n",
    "eg: type(name2) > shift enter\n",
    "str\n"
   ]
  },
  {
   "cell_type": "code",
   "execution_count": 10,
   "id": "91c1a4ce",
   "metadata": {},
   "outputs": [
    {
     "name": "stdout",
     "output_type": "stream",
     "text": [
      "ravi kumar\n"
     ]
    }
   ],
   "source": [
    "fullname = 'ravi kumar'\n",
    "print(fullname)"
   ]
  },
  {
   "cell_type": "code",
   "execution_count": 11,
   "id": "a8b3c4b1",
   "metadata": {},
   "outputs": [
    {
     "name": "stdout",
     "output_type": "stream",
     "text": [
      "Ravi Kumar\n"
     ]
    }
   ],
   "source": [
    "print(fullname.title())"
   ]
  },
  {
   "cell_type": "code",
   "execution_count": 12,
   "id": "a9d328eb",
   "metadata": {},
   "outputs": [
    {
     "name": "stdout",
     "output_type": "stream",
     "text": [
      "RAVI KUMAR\n"
     ]
    }
   ],
   "source": [
    "print(fullname.upper())"
   ]
  },
  {
   "cell_type": "code",
   "execution_count": null,
   "id": "102c6069",
   "metadata": {},
   "outputs": [],
   "source": []
  }
 ],
 "metadata": {
  "kernelspec": {
   "display_name": "Python 3 (ipykernel)",
   "language": "python",
   "name": "python3"
  },
  "language_info": {
   "codemirror_mode": {
    "name": "ipython",
    "version": 3
   },
   "file_extension": ".py",
   "mimetype": "text/x-python",
   "name": "python",
   "nbconvert_exporter": "python",
   "pygments_lexer": "ipython3",
   "version": "3.9.12"
  }
 },
 "nbformat": 4,
 "nbformat_minor": 5
}
