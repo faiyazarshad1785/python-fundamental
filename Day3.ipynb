{
 "cells": [
  {
   "cell_type": "code",
   "execution_count": null,
   "id": "ef774303",
   "metadata": {},
   "outputs": [],
   "source": [
    "# is used for commenting the line. Python do not understand it as a code, and hence it ignores #\n"
   ]
  },
  {
   "cell_type": "code",
   "execution_count": null,
   "id": "10fa008a",
   "metadata": {},
   "outputs": [],
   "source": [
    "#Continuation with strings:\n",
    "    \n",
    "#** Introductio to f strings:\n",
    "   f\"custom words {placeholder1} ... {Placeholder n}\""
   ]
  },
  {
   "cell_type": "code",
   "execution_count": 5,
   "id": "95b635b0",
   "metadata": {},
   "outputs": [
    {
     "name": "stdout",
     "output_type": "stream",
     "text": [
      "naveen kumar\n"
     ]
    }
   ],
   "source": [
    "first_name = 'naveen'\n",
    "last_name = 'kumar'\n",
    "\n",
    "#req: i want to get a full name\n",
    "full_name = f\"{first_name} {last_name}\"\n",
    "print(full_name)"
   ]
  },
  {
   "cell_type": "code",
   "execution_count": 6,
   "id": "b9d98265",
   "metadata": {},
   "outputs": [
    {
     "name": "stdout",
     "output_type": "stream",
     "text": [
      "Naveen Kumar\n"
     ]
    }
   ],
   "source": [
    "print(full_name.title())"
   ]
  },
  {
   "cell_type": "code",
   "execution_count": 8,
   "id": "a2d512c8",
   "metadata": {},
   "outputs": [
    {
     "name": "stdout",
     "output_type": "stream",
     "text": [
      "keep up the good work champ, Naveen Kumar\n"
     ]
    }
   ],
   "source": [
    "print(f\"keep up the good work champ, {full_name.title()}\")"
   ]
  },
  {
   "cell_type": "code",
   "execution_count": null,
   "id": "319516b1",
   "metadata": {},
   "outputs": [],
   "source": [
    "# Adding whitespace to strings :\n",
    "for eg: a survey is to be conducted in college for student's \n",
    "    fav programming language\n",
    "    "
   ]
  },
  {
   "cell_type": "code",
   "execution_count": 13,
   "id": "a65f3262",
   "metadata": {},
   "outputs": [
    {
     "name": "stdout",
     "output_type": "stream",
     "text": [
      "favourite_language : pythonjavacswiftc++\n"
     ]
    }
   ],
   "source": [
    "print(\"favourite_language : pythonjavacswiftc++\")"
   ]
  },
  {
   "cell_type": "code",
   "execution_count": null,
   "id": "3704e7e2",
   "metadata": {},
   "outputs": [],
   "source": [
    "#The outcomecame as randome with no space and cleanliness. to make it understandable"
   ]
  },
  {
   "cell_type": "code",
   "execution_count": 14,
   "id": "4f215cb8",
   "metadata": {},
   "outputs": [
    {
     "name": "stdout",
     "output_type": "stream",
     "text": [
      "favourite_language : \n",
      "python\n",
      "java\n",
      "c\n",
      "swift\n",
      "c++\n"
     ]
    }
   ],
   "source": [
    "print(\"favourite_language : \\npython\\njava\\nc\\nswift\\nc++\")"
   ]
  },
  {
   "cell_type": "code",
   "execution_count": 17,
   "id": "81050fcc",
   "metadata": {},
   "outputs": [
    {
     "name": "stdout",
     "output_type": "stream",
     "text": [
      "favourite_language:\tpython\tjava\tc\tsiwft\tc++\n"
     ]
    }
   ],
   "source": [
    "print(\"favourite_language:\\tpython\\tjava\\tc\\tsiwft\\tc++\")"
   ]
  },
  {
   "cell_type": "code",
   "execution_count": null,
   "id": "1da9756c",
   "metadata": {},
   "outputs": [],
   "source": [
    "# \\n is a new line delimiter\n",
    "# \\t is a tab delimiter"
   ]
  },
  {
   "cell_type": "code",
   "execution_count": 27,
   "id": "4f09ff4f",
   "metadata": {},
   "outputs": [
    {
     "name": "stdout",
     "output_type": "stream",
     "text": [
      "faiyaz\n",
      "     faiyaz\n",
      "faiyaz     \n",
      "  faiyaz  \n"
     ]
    }
   ],
   "source": [
    "# Removing whitespace from strings:\n",
    "\n",
    "name1 = 'faiyaz'\n",
    "name2 = '     faiyaz'\n",
    "name3 = 'faiyaz     '\n",
    "name4 = '  faiyaz  '\n",
    "print(name1)\n",
    "print(name2)\n",
    "print(name3)\n",
    "print(name4)"
   ]
  },
  {
   "cell_type": "code",
   "execution_count": null,
   "id": "c07737ac",
   "metadata": {},
   "outputs": [],
   "source": [
    "#space is coming before and after name in name 2 and name 3\n",
    "# To remove space "
   ]
  },
  {
   "cell_type": "markdown",
   "id": "e23be86c",
   "metadata": {},
   "source": [
    "name3.rstrip()"
   ]
  },
  {
   "cell_type": "code",
   "execution_count": 23,
   "id": "7ae3ecf4",
   "metadata": {},
   "outputs": [
    {
     "data": {
      "text/plain": [
       "'faiyaz'"
      ]
     },
     "execution_count": 23,
     "metadata": {},
     "output_type": "execute_result"
    }
   ],
   "source": [
    "name2.lstrip()"
   ]
  },
  {
   "cell_type": "code",
   "execution_count": 26,
   "id": "752d6c54",
   "metadata": {},
   "outputs": [
    {
     "data": {
      "text/plain": [
       "'faiyaz'"
      ]
     },
     "execution_count": 26,
     "metadata": {},
     "output_type": "execute_result"
    }
   ],
   "source": [
    "name3.rstrip()"
   ]
  },
  {
   "cell_type": "code",
   "execution_count": 28,
   "id": "7d2d543e",
   "metadata": {},
   "outputs": [
    {
     "data": {
      "text/plain": [
       "'faiyaz'"
      ]
     },
     "execution_count": 28,
     "metadata": {},
     "output_type": "execute_result"
    }
   ],
   "source": [
    "#To remove space from both side\n",
    "name4.strip()"
   ]
  },
  {
   "cell_type": "code",
   "execution_count": null,
   "id": "31e469e2",
   "metadata": {},
   "outputs": [],
   "source": []
  }
 ],
 "metadata": {
  "kernelspec": {
   "display_name": "Python 3 (ipykernel)",
   "language": "python",
   "name": "python3"
  },
  "language_info": {
   "codemirror_mode": {
    "name": "ipython",
    "version": 3
   },
   "file_extension": ".py",
   "mimetype": "text/x-python",
   "name": "python",
   "nbconvert_exporter": "python",
   "pygments_lexer": "ipython3",
   "version": "3.9.12"
  }
 },
 "nbformat": 4,
 "nbformat_minor": 5
}
