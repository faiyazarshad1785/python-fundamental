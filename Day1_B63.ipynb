{
 "cells": [
  {
   "cell_type": "code",
   "execution_count": 1,
   "id": "fc386b8a",
   "metadata": {},
   "outputs": [
    {
     "name": "stdout",
     "output_type": "stream",
     "text": [
      "My Name is Faiyaz\n"
     ]
    }
   ],
   "source": [
    "print('My Name is Faiyaz')"
   ]
  },
  {
   "cell_type": "code",
   "execution_count": 4,
   "id": "a940b211",
   "metadata": {},
   "outputs": [
    {
     "name": "stdout",
     "output_type": "stream",
     "text": [
      "I am learning a new programming language\n"
     ]
    }
   ],
   "source": [
    "print(\"I am learning a new programming language\")"
   ]
  },
  {
   "cell_type": "code",
   "execution_count": 5,
   "id": "36f88ef5",
   "metadata": {},
   "outputs": [
    {
     "name": "stdout",
     "output_type": "stream",
     "text": [
      "Finding it difficult to proceed and understand\n"
     ]
    }
   ],
   "source": [
    "print(\"\"\"Finding it difficult to proceed and understand\"\"\")"
   ]
  },
  {
   "cell_type": "code",
   "execution_count": 8,
   "id": "8c459cb6",
   "metadata": {},
   "outputs": [
    {
     "name": "stdout",
     "output_type": "stream",
     "text": [
      "I think its sufficient today\n"
     ]
    }
   ],
   "source": [
    "print(\"I think its sufficient today\")"
   ]
  },
  {
   "cell_type": "code",
   "execution_count": null,
   "id": "79d2cd04",
   "metadata": {},
   "outputs": [],
   "source": []
  }
 ],
 "metadata": {
  "kernelspec": {
   "display_name": "Python 3 (ipykernel)",
   "language": "python",
   "name": "python3"
  },
  "language_info": {
   "codemirror_mode": {
    "name": "ipython",
    "version": 3
   },
   "file_extension": ".py",
   "mimetype": "text/x-python",
   "name": "python",
   "nbconvert_exporter": "python",
   "pygments_lexer": "ipython3",
   "version": "3.9.12"
  }
 },
 "nbformat": 4,
 "nbformat_minor": 5
}
