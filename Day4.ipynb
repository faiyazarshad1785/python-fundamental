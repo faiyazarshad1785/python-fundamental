{
 "cells": [
  {
   "cell_type": "code",
   "execution_count": null,
   "id": "6290215e",
   "metadata": {},
   "outputs": [],
   "source": [
    "# Introduction to List data Type:\n",
    "# Definition: A list is a collection of items declared in a perticular order.\n",
    "# Classification: It is classified as mutable datatype\n",
    "\n",
    "# How to define list daya type ------> []\n",
    "\n",
    "# In order to undertand this better lets create a students data"
   ]
  },
  {
   "cell_type": "code",
   "execution_count": 1,
   "id": "4ac375e7",
   "metadata": {},
   "outputs": [
    {
     "data": {
      "text/plain": [
       "list"
      ]
     },
     "execution_count": 1,
     "metadata": {},
     "output_type": "execute_result"
    }
   ],
   "source": [
    "students = ['faiyaz','arshad','tausif','mujju']\n",
    "\n",
    "# In order to check data type:\n",
    "\n",
    "type(students)"
   ]
  },
  {
   "cell_type": "code",
   "execution_count": 2,
   "id": "8c6cd6be",
   "metadata": {},
   "outputs": [
    {
     "name": "stdout",
     "output_type": "stream",
     "text": [
      "arshad\n"
     ]
    }
   ],
   "source": [
    "# Introduction to indexing:\n",
    "# 0,1,2,3,4,5.....\n",
    "# Scenario  ----> Req: we want t get arshad name in output.\n",
    "# as per indexing it is at index number 1\n",
    "\n",
    "print(students[1])"
   ]
  },
  {
   "cell_type": "code",
   "execution_count": 3,
   "id": "0f27f77b",
   "metadata": {},
   "outputs": [
    {
     "name": "stdout",
     "output_type": "stream",
     "text": [
      "Arshad\n"
     ]
    }
   ],
   "source": [
    "# Here the output is in smal letter, in order to correct this we will use.title\n",
    "\n",
    "print(students[1].title())"
   ]
  },
  {
   "cell_type": "code",
   "execution_count": 4,
   "id": "76a1a6e3",
   "metadata": {},
   "outputs": [
    {
     "name": "stdout",
     "output_type": "stream",
     "text": [
      "tausif\n"
     ]
    }
   ],
   "source": [
    "print(students[2])"
   ]
  },
  {
   "cell_type": "code",
   "execution_count": 5,
   "id": "3bdef8e9",
   "metadata": {},
   "outputs": [
    {
     "name": "stdout",
     "output_type": "stream",
     "text": [
      "Tausif\n"
     ]
    }
   ],
   "source": [
    "print(students[2].title())"
   ]
  },
  {
   "cell_type": "code",
   "execution_count": null,
   "id": "5cb2e29d",
   "metadata": {},
   "outputs": [],
   "source": [
    "# 1- How to add new elements to the list\n",
    "# 2- How to modify the elements in the list\n",
    "# 3- How to delete the elements from the list\n",
    "\n",
    "# Lets begin with 1st one : ADD NEW MEMBER IN THE LIST"
   ]
  },
  {
   "cell_type": "code",
   "execution_count": 7,
   "id": "bad5aef7",
   "metadata": {},
   "outputs": [
    {
     "name": "stdout",
     "output_type": "stream",
     "text": [
      "['faiyaz', 'arshad', 'tausif', 'mujju']\n"
     ]
    }
   ],
   "source": [
    "print(students)"
   ]
  },
  {
   "cell_type": "code",
   "execution_count": null,
   "id": "be670901",
   "metadata": {},
   "outputs": [],
   "source": [
    "# Here we want to add naveena i the list"
   ]
  },
  {
   "cell_type": "code",
   "execution_count": 8,
   "id": "c25a93c3",
   "metadata": {},
   "outputs": [],
   "source": [
    "students.append('naveena')"
   ]
  },
  {
   "cell_type": "code",
   "execution_count": 9,
   "id": "59959991",
   "metadata": {},
   "outputs": [
    {
     "name": "stdout",
     "output_type": "stream",
     "text": [
      "['faiyaz', 'arshad', 'tausif', 'mujju', 'naveena']\n"
     ]
    }
   ],
   "source": [
    "print(students)"
   ]
  },
  {
   "cell_type": "code",
   "execution_count": null,
   "id": "e7961f97",
   "metadata": {},
   "outputs": [],
   "source": [
    "# Required: i want to add Divya to 2nd position"
   ]
  },
  {
   "cell_type": "code",
   "execution_count": 11,
   "id": "de27ea01",
   "metadata": {},
   "outputs": [
    {
     "name": "stdout",
     "output_type": "stream",
     "text": [
      "['faiyaz', 'arshad', 'Divya', 'tausif', 'mujju', 'naveena']\n"
     ]
    }
   ],
   "source": [
    "students.insert(2,'Divya')\n",
    "print(students)"
   ]
  },
  {
   "cell_type": "code",
   "execution_count": null,
   "id": "e6a73185",
   "metadata": {},
   "outputs": [],
   "source": [
    "# **Important Interview Question; What is the difference between append and inser method in a list"
   ]
  },
  {
   "cell_type": "code",
   "execution_count": null,
   "id": "65b34cb1",
   "metadata": {},
   "outputs": [],
   "source": [
    "# Answer is : The difference is that with append, you just add a new entry at the end of the list. With insert(position, new_entry) you can create a new entry exactly in the position you want.\n",
    "\n",
    "# The append method adds a new item to the end of a list."
   ]
  }
 ],
 "metadata": {
  "kernelspec": {
   "display_name": "Python 3 (ipykernel)",
   "language": "python",
   "name": "python3"
  },
  "language_info": {
   "codemirror_mode": {
    "name": "ipython",
    "version": 3
   },
   "file_extension": ".py",
   "mimetype": "text/x-python",
   "name": "python",
   "nbconvert_exporter": "python",
   "pygments_lexer": "ipython3",
   "version": "3.9.12"
  }
 },
 "nbformat": 4,
 "nbformat_minor": 5
}
